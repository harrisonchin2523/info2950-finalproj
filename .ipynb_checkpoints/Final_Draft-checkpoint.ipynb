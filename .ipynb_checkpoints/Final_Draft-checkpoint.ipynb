{
 "cells": [
  {
   "cell_type": "markdown",
   "metadata": {},
   "source": [
    "### INFO 2950 Final Project Phase 2\n",
    "Harrison Chin (hc955), Julie Jeong (sj598), Claire Jiang (cj337)"
   ]
  },
  {
   "cell_type": "code",
   "execution_count": 6,
   "metadata": {},
   "outputs": [
    {
     "ename": "ModuleNotFoundError",
     "evalue": "No module named 'duckdb'",
     "output_type": "error",
     "traceback": [
      "\u001b[0;31m---------------------------------------------------------------------------\u001b[0m",
      "\u001b[0;31mModuleNotFoundError\u001b[0m                       Traceback (most recent call last)",
      "Cell \u001b[0;32mIn [6], line 6\u001b[0m\n\u001b[1;32m      4\u001b[0m \u001b[38;5;28;01mimport\u001b[39;00m \u001b[38;5;21;01mmatplotlib\u001b[39;00m\u001b[38;5;21;01m.\u001b[39;00m\u001b[38;5;21;01mpyplot\u001b[39;00m \u001b[38;5;28;01mas\u001b[39;00m \u001b[38;5;21;01mplt\u001b[39;00m\n\u001b[1;32m      5\u001b[0m \u001b[38;5;28;01mfrom\u001b[39;00m \u001b[38;5;21;01msklearn\u001b[39;00m\u001b[38;5;21;01m.\u001b[39;00m\u001b[38;5;21;01mlinear_model\u001b[39;00m \u001b[38;5;28;01mimport\u001b[39;00m LinearRegression, LogisticRegression\n\u001b[0;32m----> 6\u001b[0m \u001b[38;5;28;01mimport\u001b[39;00m \u001b[38;5;21;01mduckdb\u001b[39;00m\u001b[38;5;241m,\u001b[39m \u001b[38;5;21;01msqlalchemy\u001b[39;00m\n",
      "\u001b[0;31mModuleNotFoundError\u001b[0m: No module named 'duckdb'"
     ]
    }
   ],
   "source": [
    "import numpy as np\n",
    "import seaborn as sns\n",
    "import pandas as pd\n",
    "import matplotlib.pyplot as plt\n",
    "from sklearn.linear_model import LinearRegression, LogisticRegression\n",
    "import duckdb, sqlalchemy"
   ]
  },
  {
   "cell_type": "code",
   "execution_count": 7,
   "metadata": {},
   "outputs": [
    {
     "ename": "ModuleNotFoundError",
     "evalue": "No module named 'sql'",
     "output_type": "error",
     "traceback": [
      "\u001b[0;31m---------------------------------------------------------------------------\u001b[0m",
      "\u001b[0;31mModuleNotFoundError\u001b[0m                       Traceback (most recent call last)",
      "Cell \u001b[0;32mIn [7], line 1\u001b[0m\n\u001b[0;32m----> 1\u001b[0m \u001b[43mget_ipython\u001b[49m\u001b[43m(\u001b[49m\u001b[43m)\u001b[49m\u001b[38;5;241;43m.\u001b[39;49m\u001b[43mrun_line_magic\u001b[49m\u001b[43m(\u001b[49m\u001b[38;5;124;43m'\u001b[39;49m\u001b[38;5;124;43mload_ext\u001b[39;49m\u001b[38;5;124;43m'\u001b[39;49m\u001b[43m,\u001b[49m\u001b[43m \u001b[49m\u001b[38;5;124;43m'\u001b[39;49m\u001b[38;5;124;43msql\u001b[39;49m\u001b[38;5;124;43m'\u001b[39;49m\u001b[43m)\u001b[49m\n\u001b[1;32m      3\u001b[0m get_ipython()\u001b[38;5;241m.\u001b[39mrun_line_magic(\u001b[38;5;124m'\u001b[39m\u001b[38;5;124mconfig\u001b[39m\u001b[38;5;124m'\u001b[39m, \u001b[38;5;124m'\u001b[39m\u001b[38;5;124mSqlMagic.autopandas = True\u001b[39m\u001b[38;5;124m'\u001b[39m)\n\u001b[1;32m      4\u001b[0m get_ipython()\u001b[38;5;241m.\u001b[39mrun_line_magic(\u001b[38;5;124m'\u001b[39m\u001b[38;5;124mconfig\u001b[39m\u001b[38;5;124m'\u001b[39m, \u001b[38;5;124m'\u001b[39m\u001b[38;5;124mSqlMagic.feedback = False\u001b[39m\u001b[38;5;124m'\u001b[39m)\n",
      "File \u001b[0;32m~/opt/anaconda3/envs/info2950/lib/python3.9/site-packages/IPython/core/interactiveshell.py:2364\u001b[0m, in \u001b[0;36mInteractiveShell.run_line_magic\u001b[0;34m(self, magic_name, line, _stack_depth)\u001b[0m\n\u001b[1;32m   2362\u001b[0m     kwargs[\u001b[38;5;124m'\u001b[39m\u001b[38;5;124mlocal_ns\u001b[39m\u001b[38;5;124m'\u001b[39m] \u001b[38;5;241m=\u001b[39m \u001b[38;5;28mself\u001b[39m\u001b[38;5;241m.\u001b[39mget_local_scope(stack_depth)\n\u001b[1;32m   2363\u001b[0m \u001b[38;5;28;01mwith\u001b[39;00m \u001b[38;5;28mself\u001b[39m\u001b[38;5;241m.\u001b[39mbuiltin_trap:\n\u001b[0;32m-> 2364\u001b[0m     result \u001b[38;5;241m=\u001b[39m \u001b[43mfn\u001b[49m\u001b[43m(\u001b[49m\u001b[38;5;241;43m*\u001b[39;49m\u001b[43margs\u001b[49m\u001b[43m,\u001b[49m\u001b[43m \u001b[49m\u001b[38;5;241;43m*\u001b[39;49m\u001b[38;5;241;43m*\u001b[39;49m\u001b[43mkwargs\u001b[49m\u001b[43m)\u001b[49m\n\u001b[1;32m   2365\u001b[0m \u001b[38;5;28;01mreturn\u001b[39;00m result\n",
      "File \u001b[0;32m~/opt/anaconda3/envs/info2950/lib/python3.9/site-packages/IPython/core/magics/extension.py:33\u001b[0m, in \u001b[0;36mExtensionMagics.load_ext\u001b[0;34m(self, module_str)\u001b[0m\n\u001b[1;32m     31\u001b[0m \u001b[38;5;28;01mif\u001b[39;00m \u001b[38;5;129;01mnot\u001b[39;00m module_str:\n\u001b[1;32m     32\u001b[0m     \u001b[38;5;28;01mraise\u001b[39;00m UsageError(\u001b[38;5;124m'\u001b[39m\u001b[38;5;124mMissing module name.\u001b[39m\u001b[38;5;124m'\u001b[39m)\n\u001b[0;32m---> 33\u001b[0m res \u001b[38;5;241m=\u001b[39m \u001b[38;5;28;43mself\u001b[39;49m\u001b[38;5;241;43m.\u001b[39;49m\u001b[43mshell\u001b[49m\u001b[38;5;241;43m.\u001b[39;49m\u001b[43mextension_manager\u001b[49m\u001b[38;5;241;43m.\u001b[39;49m\u001b[43mload_extension\u001b[49m\u001b[43m(\u001b[49m\u001b[43mmodule_str\u001b[49m\u001b[43m)\u001b[49m\n\u001b[1;32m     35\u001b[0m \u001b[38;5;28;01mif\u001b[39;00m res \u001b[38;5;241m==\u001b[39m \u001b[38;5;124m'\u001b[39m\u001b[38;5;124malready loaded\u001b[39m\u001b[38;5;124m'\u001b[39m:\n\u001b[1;32m     36\u001b[0m     \u001b[38;5;28mprint\u001b[39m(\u001b[38;5;124m\"\u001b[39m\u001b[38;5;124mThe \u001b[39m\u001b[38;5;132;01m%s\u001b[39;00m\u001b[38;5;124m extension is already loaded. To reload it, use:\u001b[39m\u001b[38;5;124m\"\u001b[39m \u001b[38;5;241m%\u001b[39m module_str)\n",
      "File \u001b[0;32m~/opt/anaconda3/envs/info2950/lib/python3.9/site-packages/IPython/core/extensions.py:76\u001b[0m, in \u001b[0;36mExtensionManager.load_extension\u001b[0;34m(self, module_str)\u001b[0m\n\u001b[1;32m     69\u001b[0m \u001b[38;5;124;03m\"\"\"Load an IPython extension by its module name.\u001b[39;00m\n\u001b[1;32m     70\u001b[0m \n\u001b[1;32m     71\u001b[0m \u001b[38;5;124;03mReturns the string \"already loaded\" if the extension is already loaded,\u001b[39;00m\n\u001b[1;32m     72\u001b[0m \u001b[38;5;124;03m\"no load function\" if the module doesn't have a load_ipython_extension\u001b[39;00m\n\u001b[1;32m     73\u001b[0m \u001b[38;5;124;03mfunction, or None if it succeeded.\u001b[39;00m\n\u001b[1;32m     74\u001b[0m \u001b[38;5;124;03m\"\"\"\u001b[39;00m\n\u001b[1;32m     75\u001b[0m \u001b[38;5;28;01mtry\u001b[39;00m:\n\u001b[0;32m---> 76\u001b[0m     \u001b[38;5;28;01mreturn\u001b[39;00m \u001b[38;5;28;43mself\u001b[39;49m\u001b[38;5;241;43m.\u001b[39;49m\u001b[43m_load_extension\u001b[49m\u001b[43m(\u001b[49m\u001b[43mmodule_str\u001b[49m\u001b[43m)\u001b[49m\n\u001b[1;32m     77\u001b[0m \u001b[38;5;28;01mexcept\u001b[39;00m \u001b[38;5;167;01mModuleNotFoundError\u001b[39;00m:\n\u001b[1;32m     78\u001b[0m     \u001b[38;5;28;01mif\u001b[39;00m module_str \u001b[38;5;129;01min\u001b[39;00m BUILTINS_EXTS:\n",
      "File \u001b[0;32m~/opt/anaconda3/envs/info2950/lib/python3.9/site-packages/IPython/core/extensions.py:91\u001b[0m, in \u001b[0;36mExtensionManager._load_extension\u001b[0;34m(self, module_str)\u001b[0m\n\u001b[1;32m     89\u001b[0m \u001b[38;5;28;01mwith\u001b[39;00m \u001b[38;5;28mself\u001b[39m\u001b[38;5;241m.\u001b[39mshell\u001b[38;5;241m.\u001b[39mbuiltin_trap:\n\u001b[1;32m     90\u001b[0m     \u001b[38;5;28;01mif\u001b[39;00m module_str \u001b[38;5;129;01mnot\u001b[39;00m \u001b[38;5;129;01min\u001b[39;00m sys\u001b[38;5;241m.\u001b[39mmodules:\n\u001b[0;32m---> 91\u001b[0m         mod \u001b[38;5;241m=\u001b[39m \u001b[43mimport_module\u001b[49m\u001b[43m(\u001b[49m\u001b[43mmodule_str\u001b[49m\u001b[43m)\u001b[49m\n\u001b[1;32m     92\u001b[0m     mod \u001b[38;5;241m=\u001b[39m sys\u001b[38;5;241m.\u001b[39mmodules[module_str]\n\u001b[1;32m     93\u001b[0m     \u001b[38;5;28;01mif\u001b[39;00m \u001b[38;5;28mself\u001b[39m\u001b[38;5;241m.\u001b[39m_call_load_ipython_extension(mod):\n",
      "File \u001b[0;32m~/opt/anaconda3/envs/info2950/lib/python3.9/importlib/__init__.py:127\u001b[0m, in \u001b[0;36mimport_module\u001b[0;34m(name, package)\u001b[0m\n\u001b[1;32m    125\u001b[0m             \u001b[38;5;28;01mbreak\u001b[39;00m\n\u001b[1;32m    126\u001b[0m         level \u001b[38;5;241m+\u001b[39m\u001b[38;5;241m=\u001b[39m \u001b[38;5;241m1\u001b[39m\n\u001b[0;32m--> 127\u001b[0m \u001b[38;5;28;01mreturn\u001b[39;00m \u001b[43m_bootstrap\u001b[49m\u001b[38;5;241;43m.\u001b[39;49m\u001b[43m_gcd_import\u001b[49m\u001b[43m(\u001b[49m\u001b[43mname\u001b[49m\u001b[43m[\u001b[49m\u001b[43mlevel\u001b[49m\u001b[43m:\u001b[49m\u001b[43m]\u001b[49m\u001b[43m,\u001b[49m\u001b[43m \u001b[49m\u001b[43mpackage\u001b[49m\u001b[43m,\u001b[49m\u001b[43m \u001b[49m\u001b[43mlevel\u001b[49m\u001b[43m)\u001b[49m\n",
      "File \u001b[0;32m<frozen importlib._bootstrap>:1030\u001b[0m, in \u001b[0;36m_gcd_import\u001b[0;34m(name, package, level)\u001b[0m\n",
      "File \u001b[0;32m<frozen importlib._bootstrap>:1007\u001b[0m, in \u001b[0;36m_find_and_load\u001b[0;34m(name, import_)\u001b[0m\n",
      "File \u001b[0;32m<frozen importlib._bootstrap>:984\u001b[0m, in \u001b[0;36m_find_and_load_unlocked\u001b[0;34m(name, import_)\u001b[0m\n",
      "\u001b[0;31mModuleNotFoundError\u001b[0m: No module named 'sql'"
     ]
    }
   ],
   "source": [
    "%load_ext sql\n",
    "\n",
    "%config SqlMagic.autopandas = True\n",
    "%config SqlMagic.feedback = False\n",
    "%config SqlMagic.displaycon = False\n",
    "\n",
    "%sql duckdb:///:memory:"
   ]
  },
  {
   "cell_type": "markdown",
   "metadata": {},
   "source": [
    "# Research Question(s)\n",
    "\n",
    "The overall goal of our project is to provide useful insights about in-flight services that an airline can use to improve customer satisfaction. To do this, we will investigate three key questions: \n",
    "\n",
    "**1. Are there differences in ratings across different categories based on whether the customer is loyal or disloyal?**\n",
    "\n",
    "**2. How do ratings or satisfactions change depending on the type of travel? (Business travel vs Personal Travel)?**\n",
    "\n",
    "**3. How do ratings change between business and economy class passengers?**\n",
    "\n",
    "These questions could help an airline identify what inflight services they want to improve for which kind of customer. For example, if it appears that business class passengers are very satisfied with food but economy class passengers are not, then an airline could focus on improving economy class food. \n",
    "\n",
    "We also want to create a model that will predict customer satisfaction or dissatisfaction based on various characteristics of the customer ahead of time. It is possible that if this model were put into place, then airlines could see what customers are likely to be dissatisfied and focus more efforts on making sure they are happy with the inflight services. A successful implementation of this concept could cause passengers who are not easy to please to be further inclined to use this airline again, thereby increasing profits. "
   ]
  },
  {
   "cell_type": "markdown",
   "metadata": {},
   "source": [
    "# Data Description\n",
    "\n",
    "In the airline dataset that we have chosen, our observations are passengers who have filled out a satisfaction survey and the attributes are various characteristics of the passengers rating the flight, the flight itself, a rating from 1-5 in terms of satisfaction for various inflight and out of flight services, and a classification of the passenger as either “satisfied” or “neutral/dissatisfied”. The characteristics of the passengers rating the flight are Gender, Customer Type (Loyal customer, disloyal customer), and Age. The characteristics of the flight are Type of Travel (Personal Travel, Business Travel), Class (The Seat Class; Business, Eco, Eco Plus), Flight distance, Departure Delay in Minutes (Minutes delayed when departing), and Arrival Delay in Minutes (Minutes delayed when arriving). The services the passengers are rating are Inflight wifi service, Departure/Arrival time convenience, Ease of Online booking, Gate location, Food and drink, Online boarding, Seat comfort, Inflight entertainment, On-board service, Leg room service, Baggage handling, Check-in service, Inflight service, and Cleanliness."
   ]
  },
  {
   "cell_type": "markdown",
   "metadata": {},
   "source": [
    "# Data Collection\n",
    "Our data was collected from the Kaggle website."
   ]
  },
  {
   "cell_type": "code",
   "execution_count": null,
   "metadata": {},
   "outputs": [],
   "source": [
    "satisfaction_df = pd.read_csv('passenger_satisfaction.csv')"
   ]
  },
  {
   "cell_type": "markdown",
   "metadata": {},
   "source": [
    "# Data Cleaning\n",
    "\n",
    "## Checking for Null Values\n",
    "\n",
    "We wanted to make sure that there would be no empty/null values in our dataframe so we would not have any weird outcomes when computing statistics or creating visualizations."
   ]
  },
  {
   "cell_type": "code",
   "execution_count": null,
   "metadata": {},
   "outputs": [],
   "source": [
    "satisfaction_df.isnull().values.any()"
   ]
  },
  {
   "cell_type": "markdown",
   "metadata": {},
   "source": [
    "## Uncleaned Data"
   ]
  },
  {
   "cell_type": "code",
   "execution_count": null,
   "metadata": {},
   "outputs": [],
   "source": [
    "satisfaction_df.head()"
   ]
  },
  {
   "cell_type": "code",
   "execution_count": null,
   "metadata": {},
   "outputs": [],
   "source": [
    "satisfaction_df.columns"
   ]
  },
  {
   "cell_type": "markdown",
   "metadata": {},
   "source": [
    "## Reasoning for Removing Columns\n",
    "\n",
    "We decided to remove columns that did not pertain to the inflight aspect of the airline as we suspect that these categories are not something that the airline can necessarily completely control on their own. Our goal is to help airlines pinpoint categories that they can improve on and raise satisfaction ratings overall and we believe that an airline can change the most within their own aircraft and the services they provide within it. So, I used the built-in pandas drop function to drop the columns that we didn’t need. Specifically, we dropped  'Departure/Arrival time convenient', 'Ease of Online booking', 'Gate location', 'Online boarding', 'Baggage handling', 'Checkin service',   'Departure Delay in Minutes', 'Arrival Delay in Minutes', 'Unnamed: 0'. \n",
    " "
   ]
  },
  {
   "cell_type": "code",
   "execution_count": null,
   "metadata": {},
   "outputs": [],
   "source": [
    "satisfaction_df = satisfaction_df.rename(columns={\"Customer Type\": \"CustomerType\", \n",
    "                                                  \"Flight Distance\": \"FlightDistance\", \n",
    "                                                  \"Food and drink\": \"FoodAndDrink\", \n",
    "                                                  \"Seat comfort\": \"SeatComfort\", \n",
    "                                                  \"Inflight entertainment\": \"InflightEntertainment\", \n",
    "                                                  \"Leg room service\": \"LegRoomService\", \n",
    "                                                  'Inflight wifi service': 'InflightWifi',\n",
    "                                                  'On-board service': 'OnboardService',\n",
    "                                                  'Type of Travel': 'TravelType',\n",
    "                                                  'Inflight service': 'InflightService',\n",
    "                                                  'satisfaction': 'Satisfaction'})\n",
    "satisfaction_df.columns"
   ]
  },
  {
   "cell_type": "markdown",
   "metadata": {},
   "source": [
    "## Cleaned Data"
   ]
  },
  {
   "cell_type": "code",
   "execution_count": null,
   "metadata": {},
   "outputs": [],
   "source": [
    "satisfaction_df.drop(columns=['Departure/Arrival time convenient', 'Ease of Online booking',\n",
    "       'Gate location', 'Online boarding', 'Baggage handling', 'Checkin service', \n",
    "                      'Departure Delay in Minutes', 'Arrival Delay in Minutes', 'Unnamed: 0'], inplace=True)\n",
    "\n",
    "satisfaction_df.head()"
   ]
  },
  {
   "cell_type": "markdown",
   "metadata": {},
   "source": [
    "## Reasons for Removing Short Distance Flights\n",
    "\n",
    "We wanted to remove short to mid distance flights when considering satisfaction levels because longer distance flights will cause more categories to aggravate customers as they are on the plane longer than usual. Short to mid distance flights constitute flights that are less than 3000 miles long or about 6 hours long or less. This will expose the weaknesses that airlines have within their flights and will help them realize what they need to improve. In addition, the lower the chance that customers will feel less satisfied with certain categories because they are on the plane for a shorter time. By focusing on the longer flights and removing shorter distance flights, we can create better predictions on satisfaction levels of customers. We did this by using a SQL query to filter flights that had distances greater than or equal to 3000 to create a new data frame that we would use for our data analysis."
   ]
  },
  {
   "cell_type": "code",
   "execution_count": null,
   "metadata": {},
   "outputs": [],
   "source": [
    "%sql cleaned_satisfaction_df << SELECT * FROM satisfaction_df\\\n",
    "WHERE FlightDistance >= 3000\n",
    "\n",
    "cleaned_satisfaction_df.head()"
   ]
  },
  {
   "cell_type": "code",
   "execution_count": null,
   "metadata": {},
   "outputs": [],
   "source": [
    "#export as cleaned so we can use the cleaned data directly\n",
    "cleaned_satisfaction_df.to_csv('cleaned_satisfaction_data.csv', index=False)"
   ]
  },
  {
   "cell_type": "code",
   "execution_count": null,
   "metadata": {},
   "outputs": [],
   "source": [
    "cleaned_satisfaction_df = pd.read_csv(\"cleaned_satisfaction_data.csv\")"
   ]
  },
  {
   "cell_type": "code",
   "execution_count": null,
   "metadata": {
    "scrolled": false
   },
   "outputs": [],
   "source": [
    "cleaned_satisfaction_df"
   ]
  },
  {
   "cell_type": "markdown",
   "metadata": {},
   "source": [
    "## Encoding Categorical Variables into Binary Values\n",
    "\n",
    "In order to be able to utilize the different categories that we want to check rating/satisfaction values against, we encoded Gender, CustomerType, TravelType, Class, and Satisfaction into binary values using LabelEncoder() such that we could better facilitate our data analysis."
   ]
  },
  {
   "cell_type": "code",
   "execution_count": null,
   "metadata": {
    "scrolled": true
   },
   "outputs": [],
   "source": [
    "from sklearn.preprocessing import LabelEncoder\n",
    "\n",
    "le = LabelEncoder()\n",
    "\n",
    "cleaned_satisfaction_df['Gender'] = le.fit_transform(cleaned_satisfaction_df['Gender']) # Female: 0, Male: 1\n",
    "cleaned_satisfaction_df['CustomerType'] = le.fit_transform(cleaned_satisfaction_df['CustomerType']) #Loyal: 0, Disloyal: 1\n",
    "cleaned_satisfaction_df['TravelType'] = le.fit_transform(cleaned_satisfaction_df['TravelType']) # Business travel: 0, Personal travel: 1\n",
    "cleaned_satisfaction_df['Class'] = le.fit_transform(cleaned_satisfaction_df['Class']) # Business: 0, Eco: 1, Other: ?\n",
    "cleaned_satisfaction_df['Satisfaction'] = le.fit_transform(cleaned_satisfaction_df['Satisfaction']) # Neutral or Dissatisfied: 0, Satisfied: 1\n",
    "\n",
    "cleaned_satisfaction_df"
   ]
  },
  {
   "cell_type": "code",
   "execution_count": null,
   "metadata": {},
   "outputs": [],
   "source": [
    "cleaned_satisfaction_df.columns"
   ]
  },
  {
   "cell_type": "code",
   "execution_count": null,
   "metadata": {},
   "outputs": [],
   "source": [
    "cleaned_satisfaction_df.corr()"
   ]
  },
  {
   "cell_type": "code",
   "execution_count": null,
   "metadata": {
    "scrolled": true
   },
   "outputs": [],
   "source": [
    "#Correlation Matrix for variables\n",
    "plt.figure(figsize=(12,12))\n",
    "ax = sns.heatmap(cleaned_satisfaction_df.corr(), annot=True)"
   ]
  },
  {
   "cell_type": "code",
   "execution_count": null,
   "metadata": {
    "scrolled": true
   },
   "outputs": [],
   "source": [
    "# Female: 0, Male: 1\n",
    "cleaned_satisfaction_df.groupby(['Gender']).mean()\n",
    "gender_df = cleaned_satisfaction_df.groupby(['Gender']).mean()"
   ]
  },
  {
   "cell_type": "markdown",
   "metadata": {},
   "source": [
    "# Ratings based on gender \n",
    "\n",
    "There is no apparent difference in ratings when separated by gender. This is somewhat expected."
   ]
  },
  {
   "cell_type": "code",
   "execution_count": null,
   "metadata": {},
   "outputs": [],
   "source": [
    "# Reference: https://www.geeksforgeeks.org/plotting-multiple-bar-charts-using-matplotlib-in-python/\n",
    "\n",
    "X = ['InflightWifi', 'FoodAndDrink', 'SeatComfort',\n",
    "       'InflightEntertainment', 'OnboardService', 'LegRoomService',\n",
    "       'InflightService', 'Cleanliness', 'Satisfaction']"
   ]
  },
  {
   "cell_type": "code",
   "execution_count": null,
   "metadata": {
    "scrolled": true
   },
   "outputs": [],
   "source": [
    "Female = gender_df.iloc[0, 6:]\n",
    "Male = gender_df.iloc[1, 6:]\n",
    "  \n",
    "X_axis = np.arange(len(X))\n",
    "\n",
    "plt.figure(figsize=(17,6))\n",
    "\n",
    "plt.bar(X_axis - 0.2, Female, 0.4, label = 'Female')\n",
    "plt.bar(X_axis + 0.2, Male, 0.4, label = 'Male')\n",
    "  \n",
    "plt.xticks(X_axis, X)\n",
    "plt.xlabel(\"Categories\")\n",
    "plt.ylabel(\"Ratings\")\n",
    "plt.title(\"Ratings by Gender\")\n",
    "plt.legend()\n",
    "plt.show()"
   ]
  },
  {
   "cell_type": "markdown",
   "metadata": {},
   "source": [
    "# Ratings based on Customer Type\n",
    "\n",
    "Overall, loyal customers have higher average ratings than disloyal customers. Among categories, FoodAndDrink has the biggest difference and legRoomService has the smallest difference."
   ]
  },
  {
   "cell_type": "code",
   "execution_count": null,
   "metadata": {
    "scrolled": true
   },
   "outputs": [],
   "source": [
    "#Loyal: 0, Disloyal: 1\n",
    "\n",
    "cleaned_satisfaction_df.groupby(['CustomerType']).mean()\n",
    "customer_df = cleaned_satisfaction_df.groupby(['CustomerType']).mean()"
   ]
  },
  {
   "cell_type": "code",
   "execution_count": null,
   "metadata": {
    "scrolled": false
   },
   "outputs": [],
   "source": [
    "Loyal = customer_df.iloc[0, 6:]\n",
    "Disloyal = customer_df.iloc[1, 6:]\n",
    "  \n",
    "X_axis = np.arange(len(X))\n",
    "\n",
    "plt.figure(figsize=(17,6))\n",
    "\n",
    "plt.bar(X_axis - 0.2, Loyal, 0.4, label = 'Loyal')\n",
    "plt.bar(X_axis + 0.2, Disloyal, 0.4, label = 'Disloyal')\n",
    "  \n",
    "plt.xticks(X_axis, X)\n",
    "plt.xlabel(\"Categories\")\n",
    "plt.ylabel(\"Ratings\")\n",
    "plt.title(\"Ratings by Customer Type\")\n",
    "plt.legend()\n",
    "plt.show()"
   ]
  },
  {
   "cell_type": "markdown",
   "metadata": {},
   "source": [
    "# Ratings based on Travel Type\n",
    "\n",
    "Overall, passengers on business travel have higher average ratings than passengers on personal travel. Among categories, InflightService and FoodAndDrink have the biggest differences and legRoomService has the smallest difference."
   ]
  },
  {
   "cell_type": "code",
   "execution_count": null,
   "metadata": {},
   "outputs": [],
   "source": [
    "# Business travel: 0, Personal travel: 1\n",
    "cleaned_satisfaction_df.groupby(['TravelType']).mean()\n",
    "travel_df = cleaned_satisfaction_df.groupby(['TravelType']).mean()"
   ]
  },
  {
   "cell_type": "code",
   "execution_count": null,
   "metadata": {
    "scrolled": true
   },
   "outputs": [],
   "source": [
    "Business = travel_df.iloc[0, 6:]\n",
    "Personal = travel_df.iloc[1, 6:]\n",
    "  \n",
    "X_axis = np.arange(len(X))\n",
    "\n",
    "plt.figure(figsize=(17,6))\n",
    "\n",
    "plt.bar(X_axis - 0.2, Business, 0.4, label = 'Business')\n",
    "plt.bar(X_axis + 0.2, Personal, 0.4, label = 'Personal')\n",
    "  \n",
    "plt.xticks(X_axis, X)\n",
    "plt.xlabel(\"Categories\")\n",
    "plt.ylabel(\"Ratings\")\n",
    "plt.title(\"Ratings by Travel Type\")\n",
    "plt.legend()\n",
    "plt.show()"
   ]
  },
  {
   "cell_type": "markdown",
   "metadata": {},
   "source": [
    "# Ratings based on Class\n",
    "\n",
    "Overall, business class passengers have higher average ratings than economy class passengers. Note that class 'others' was not included in the bar chart. Among categories, InflightService, SeatComfort FoodAndDrink have the biggest differences and legRoomService has the smallest difference."
   ]
  },
  {
   "cell_type": "code",
   "execution_count": null,
   "metadata": {
    "scrolled": true
   },
   "outputs": [],
   "source": [
    "# Business: 0, Eco: 1, Others: 2\n",
    "class_df = cleaned_satisfaction_df.groupby(['Class']).mean()\n",
    "class_df"
   ]
  },
  {
   "cell_type": "code",
   "execution_count": null,
   "metadata": {},
   "outputs": [],
   "source": [
    "Business = class_df.iloc[0, 6:]\n",
    "Eco = class_df.iloc[1, 6:]\n",
    "  \n",
    "X_axis = np.arange(len(X))\n",
    "\n",
    "plt.figure(figsize=(17,6))\n",
    "\n",
    "plt.bar(X_axis - 0.2, Business, 0.4, label = 'Business')\n",
    "plt.bar(X_axis + 0.2, Eco, 0.4, label = 'Eco')\n",
    "  \n",
    "plt.xticks(X_axis, X)\n",
    "plt.xlabel(\"Categories\")\n",
    "plt.ylabel(\"Ratings\")\n",
    "plt.title(\"Ratings by Class\")\n",
    "plt.legend()\n",
    "plt.show()"
   ]
  },
  {
   "cell_type": "markdown",
   "metadata": {},
   "source": [
    "# Ratings based on Overall Satisfaction\n",
    "\n",
    "Among customers whose overall satisfaction was \"satisfied\" vs \"neutral or dissatisfied\", each category had the following differences in ratings:<br>\n",
    "- InflightEntertainment    1.685928 <br>\n",
    "- OnboardService           1.528124 <br>\n",
    "- LegRoomService           1.449006 <br>\n",
    "- InflightService          1.422147 <br>\n",
    "- Cleanliness              1.348444 <br>\n",
    "- SeatComfort              1.233816 <br>\n",
    "- FoodAndDrink             0.790447 <br>\n",
    "- InflightWifi             0.442529 <br>\n",
    "\n",
    "From this, we can infer that InflightEntertainment, OnboardService, LegRoomService have the most impact in determining passengers' satisfaction."
   ]
  },
  {
   "cell_type": "code",
   "execution_count": null,
   "metadata": {},
   "outputs": [],
   "source": [
    "# Neutral or Dissatisfied: 0, Satisfied: 1\n",
    "satisfaction_df = cleaned_satisfaction_df.groupby(['Satisfaction']).mean()\n",
    "satisfaction_df"
   ]
  },
  {
   "cell_type": "code",
   "execution_count": null,
   "metadata": {},
   "outputs": [],
   "source": [
    "X_satisfaction = ['InflightWifi', 'FoodAndDrink', 'SeatComfort',\n",
    "       'InflightEntertainment', 'OnboardService', 'LegRoomService',\n",
    "       'InflightService', 'Cleanliness']\n",
    "\n",
    "NeutralOrDissatisfied = satisfaction_df.iloc[0, 7:]\n",
    "Satisfied = satisfaction_df.iloc[1, 7:]\n",
    "  \n",
    "X_axis = np.arange(len(X_satisfaction))\n",
    "\n",
    "plt.figure(figsize=(17,6))\n",
    "\n",
    "plt.bar(X_axis - 0.2, NeutralOrDissatisfied, 0.4, label = 'NeutralOrDissatisfied')\n",
    "plt.bar(X_axis + 0.2, Satisfied, 0.4, label = 'Satisfied')\n",
    "  \n",
    "plt.xticks(X_axis, X_satisfaction)\n",
    "plt.xlabel(\"Categories\")\n",
    "plt.ylabel(\"Ratings\")\n",
    "plt.title(\"Ratings by Satisfaction\")\n",
    "plt.legend()\n",
    "plt.show()"
   ]
  },
  {
   "cell_type": "code",
   "execution_count": null,
   "metadata": {},
   "outputs": [],
   "source": [
    "print(\"Difference in Ratings (Satisfied - NeutralOrDissatisfied)\")\n",
    "\n",
    "satisfaction_diff = Satisfied - NeutralOrDissatisfied\n",
    "satisfaction_diff.sort_values(ascending=False)"
   ]
  },
  {
   "cell_type": "markdown",
   "metadata": {},
   "source": [
    "# Limitations\n",
    "\n",
    "A main limitation of our data is that satisfaction is not an objective metric. For example, if two people feel the same absolute satisfaction about something, it is still possible that they rate that attribute of their flight differently. Additionally, something that is extremely displeasing to one passenger could be just a minor inconvenience to another, so expectations and mood also play into this survey. Other factors could influence the ratings as well. For example, if someone usually flies economy class and flies business class because someone else pays for them, then they might rate services higher or lower just because they are used to different ones. The classification of customers also falls into only two categories: “satisfied” and “neutral or dissatisfied,” which are not very specifically reflective of someone’s experience. Additionally, for the larger goal of our project to help airlines improve customer satisfaction, this dataset only pertains to one airline and is therefore less generalizable, but our project could help an airline see what customers value. \n"
   ]
  },
  {
   "cell_type": "markdown",
   "metadata": {},
   "source": [
    "# Questions For Reviewers\n",
    "\n",
    "1. Do you have suggestions for other directions we could take our data exploration?\n",
    "2. Should we make our research questions more broad? More specific? Do you think there is enough for us to do?\n",
    "3. If there isn't a significant finding to our research questions, should we change our direction or have conclusions with that?"
   ]
  },
  {
   "cell_type": "markdown",
   "metadata": {},
   "source": [
    "# Phase 4\n",
    "\n",
    "We used hypothesis testing to see if the differences in average ratings for different categories are significantly different between two types of customers. First, business vs economy class travels, then loyal and disloyal customers, and finally between customers travelling for personal vs business reasons. \n",
    "\n",
    "$H_0: \\mu_1 - \\mu_2 = 0$\n",
    "\n",
    "$H_a: \\mu_1 - \\mu_2 > 0$"
   ]
  },
  {
   "cell_type": "code",
   "execution_count": null,
   "metadata": {},
   "outputs": [],
   "source": [
    "#function for calculating t scores\n",
    "def t_scores(arr_1, arr_2, list_vars):\n",
    "    n1 = len(arr_1)\n",
    "    n2 = len(arr_2)\n",
    "    for s in list_vars:\n",
    "        std_1 = np.std(arr_1[s])\n",
    "        std_2 = np.std(arr_2[s])\n",
    "        t_score = (np.mean(arr_1[s]) - np.mean(arr_2[s]))/((std_1**2/n1) + (std_2**2/2))**0.5\n",
    "        print(s, \": \", round(t_score, 2))"
   ]
  },
  {
   "cell_type": "code",
   "execution_count": null,
   "metadata": {},
   "outputs": [],
   "source": [
    "#list of variables we are calculating t scores for \n",
    "list_vars = ['InflightWifi', 'FoodAndDrink', 'SeatComfort',\n",
    "       'InflightEntertainment', 'OnboardService', 'LegRoomService',\n",
    "       'InflightService', 'Cleanliness']"
   ]
  },
  {
   "cell_type": "markdown",
   "metadata": {},
   "source": [
    "# Ratings based on Class\n",
    "\n",
    "Overall, there is not a significant difference in the averages of ratings for any category betweeen business and economy class at the 95% confidence level. The difference in average food and drink rating is significant at the 70% confidence level. "
   ]
  },
  {
   "cell_type": "code",
   "execution_count": null,
   "metadata": {},
   "outputs": [],
   "source": [
    "bus = cleaned_satisfaction_df[cleaned_satisfaction_df[\"Class\"] == 0][list_vars]\n",
    "eco = cleaned_satisfaction_df[cleaned_satisfaction_df[\"Class\"] == 1][list_vars]\n",
    "\n",
    "print(\"degrees of freedom: \", len(bus) - 1 + len(eco) - 1)"
   ]
  },
  {
   "cell_type": "code",
   "execution_count": null,
   "metadata": {},
   "outputs": [],
   "source": [
    "t_scores(bus, eco, list_vars)"
   ]
  },
  {
   "cell_type": "markdown",
   "metadata": {},
   "source": [
    "# Ratings based on Customer Type\n",
    "\n",
    "Overall, there is not a significant difference in the averages of ratings for any category between disloyal and loyal customers at the 95% confidence level. The difference in average food and drink rating is significant at the 70% confidence level. "
   ]
  },
  {
   "cell_type": "code",
   "execution_count": null,
   "metadata": {},
   "outputs": [],
   "source": [
    "loyal = cleaned_satisfaction_df[cleaned_satisfaction_df[\"CustomerType\"]==0][list_vars]\n",
    "disloyal = cleaned_satisfaction_df[cleaned_satisfaction_df[\"CustomerType\"]==1][list_vars]\n",
    "\n",
    "print(\"degrees of freedom: \", len(loyal) - 1 + len(disloyal) - 1)"
   ]
  },
  {
   "cell_type": "code",
   "execution_count": null,
   "metadata": {},
   "outputs": [],
   "source": [
    "t_scores(loyal, disloyal, list_vars)"
   ]
  },
  {
   "cell_type": "markdown",
   "metadata": {},
   "source": [
    "# Ratings based on Travel Type\n",
    "\n",
    "There is no significant difference in the averages of ratings for any category between business and personal travel customers at the 95% confidence level. The differences in average food and drink and inflight service ratings are significant at the 60% confidence level. "
   ]
  },
  {
   "cell_type": "code",
   "execution_count": null,
   "metadata": {},
   "outputs": [],
   "source": [
    "bustrav = cleaned_satisfaction_df[cleaned_satisfaction_df[\"TravelType\"]==0][list_vars]\n",
    "perstrav = cleaned_satisfaction_df[cleaned_satisfaction_df[\"TravelType\"]==1][list_vars]\n",
    "\n",
    "print(\"degrees of freedom: \", len(bustrav) - 1 + len(perstrav) - 1)"
   ]
  },
  {
   "cell_type": "code",
   "execution_count": null,
   "metadata": {},
   "outputs": [],
   "source": [
    "t_scores(bustrav, perstrav, list_vars)"
   ]
  },
  {
   "cell_type": "markdown",
   "metadata": {},
   "source": [
    "# Hypothesis Test Conclusions\n",
    "\n",
    "None of these service categoreis received significantly different average ratings between any two categories of customer that we investigated (at the 95% confidence level). Food and Drink was overall the most significant category. "
   ]
  },
  {
   "cell_type": "markdown",
   "metadata": {},
   "source": [
    "# Does Inflight Entertainment have a higher effect on customer satisfaction than Inflight Wifi?"
   ]
  },
  {
   "cell_type": "code",
   "execution_count": null,
   "metadata": {},
   "outputs": [],
   "source": [
    "satisfaction_train, satisfaction_test = train_test_split(cleaned_satisfaction_df, test_size = .2)\n",
    "\n"
   ]
  }
 ],
 "metadata": {
  "kernelspec": {
   "display_name": "Python 3 (ipykernel)",
   "language": "python",
   "name": "python3"
  },
  "language_info": {
   "codemirror_mode": {
    "name": "ipython",
    "version": 3
   },
   "file_extension": ".py",
   "mimetype": "text/x-python",
   "name": "python",
   "nbconvert_exporter": "python",
   "pygments_lexer": "ipython3",
   "version": "3.9.15"
  }
 },
 "nbformat": 4,
 "nbformat_minor": 2
}
